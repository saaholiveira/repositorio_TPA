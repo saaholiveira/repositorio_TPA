{
 "cells": [
  {
   "cell_type": "markdown",
   "metadata": {},
   "source": [
    "# Manipulação de Strings com Python"
   ]
  },
  {
   "cell_type": "markdown",
   "metadata": {},
   "source": [
    "> Uma variavel primaria de texto é chamada de char ou caracter possibilitando o armazenamento de 8 bit de memória. Quando necessitamos de um conjunto de caracteres utilizamos um objeto, ou variáveis compostas no caso da maioria das linguagens chamada de string. Vamos ver como se aplica"
   ]
  },
  {
   "cell_type": "code",
   "execution_count": 2,
   "metadata": {},
   "outputs": [
    {
     "name": "stdout",
     "output_type": "stream",
     "text": [
      "Boa tarde a todos\n",
      "Boa tarde\n"
     ]
    }
   ],
   "source": [
    "frase = \"Boa tarde a todos\"\n",
    "print(frase)\n",
    "saudacao = frase[0:9]\n",
    "print(saudacao)"
   ]
  },
  {
   "cell_type": "code",
   "execution_count": 3,
   "metadata": {},
   "outputs": [
    {
     "name": "stdout",
     "output_type": "stream",
     "text": [
      "<class 'str'>\n",
      "<class 'str'>\n"
     ]
    }
   ],
   "source": [
    "print(type(frase))\n",
    "print(type(saudacao))"
   ]
  },
  {
   "cell_type": "code",
   "execution_count": 4,
   "metadata": {},
   "outputs": [
    {
     "name": "stdout",
     "output_type": "stream",
     "text": [
      "18\n",
      "10\n"
     ]
    }
   ],
   "source": [
    "print(frase.count(''))\n",
    "print(saudacao.count(''))"
   ]
  },
  {
   "cell_type": "code",
   "execution_count": 5,
   "metadata": {},
   "outputs": [
    {
     "name": "stdout",
     "output_type": "stream",
     "text": [
      "17\n",
      "9\n"
     ]
    }
   ],
   "source": [
    "print(len(frase))\n",
    "print(len(saudacao))"
   ]
  },
  {
   "cell_type": "code",
   "execution_count": 12,
   "metadata": {},
   "outputs": [
    {
     "name": "stdout",
     "output_type": "stream",
     "text": [
      "Boa tarde galerinha!\n",
      "Boa noite\n"
     ]
    }
   ],
   "source": [
    "frase = frase.replace('a todos','galerinha!')\n",
    "print(frase)\n",
    "saudacao = saudacao.replace('tarde','noite')\n",
    "print(saudacao)"
   ]
  },
  {
   "cell_type": "code",
   "execution_count": 13,
   "metadata": {},
   "outputs": [
    {
     "name": "stdout",
     "output_type": "stream",
     "text": [
      "['B', 'o', 'a', ' ', 't', 'a', 'r', 'd', 'e', ' ', 'g', 'a', 'l', 'e', 'r', 'i', 'n', 'h', 'a', '!']\n"
     ]
    }
   ],
   "source": [
    "frase = [i for i in frase]\n",
    "print(frase)"
   ]
  },
  {
   "cell_type": "code",
   "execution_count": 14,
   "metadata": {},
   "outputs": [
    {
     "name": "stdout",
     "output_type": "stream",
     "text": [
      "B\n",
      "o\n",
      "a\n",
      " \n",
      "t\n",
      "a\n",
      "r\n",
      "d\n",
      "e\n",
      " \n",
      "g\n",
      "a\n",
      "l\n",
      "e\n",
      "r\n",
      "i\n",
      "n\n",
      "h\n",
      "a\n",
      "!\n"
     ]
    }
   ],
   "source": [
    "for x in frase:\n",
    "    print(x)"
   ]
  },
  {
   "cell_type": "markdown",
   "metadata": {},
   "source": [
    "## Exercício 1"
   ]
  },
  {
   "cell_type": "markdown",
   "metadata": {},
   "source": [
    "> Crie um código para a seguinte frase : \"Sabia que o sabiá sabia assobiar\" reparticionando por pedaços, após isso crie um print format para vizualizar cada palavra separada."
   ]
  },
  {
   "cell_type": "code",
   "execution_count": 31,
   "metadata": {},
   "outputs": [
    {
     "name": "stdout",
     "output_type": "stream",
     "text": [
      "Sabia que o sabiá sabia assobiar\n",
      "s\n",
      "a\n",
      "b\n",
      "i\n",
      "a\n",
      " \n",
      "q\n",
      "u\n",
      "e\n"
     ]
    }
   ],
   "source": [
    "frase = \"Sabia que o sabiá sabia assobiar\"\n",
    "print(frase)\n",
    "sabia = frase[0:6]\n",
    "que = frase[6:9]\n",
    "o = frase[9:11]\n",
    "sabiá = frase[12:17]\n",
    "sabia = frase[18:24]\n",
    "assobiar = frase[24:32]\n",
    "print(\"{:<10}{:<10}{:<10}{:<10}{:<10}{:<10}\".format(\"sabia\"))\n"
   ]
  },
  {
   "cell_type": "code",
   "execution_count": 38,
   "metadata": {},
   "outputs": [
    {
     "name": "stdout",
     "output_type": "stream",
     "text": [
      "['Sabia', 'que', 'o', 'sabiá', 'sabia', 'assobiar']\n",
      "Sqossa\n",
      "auaas\n",
      "bebbs\n",
      "iiio\n",
      "aáab\n",
      "i\n",
      "a\n",
      "r\n"
     ]
    }
   ],
   "source": [
    "frase = \"Sabia que o sabiá sabia assobiar\"\n",
    "palavras = frase.split()\n",
    "print(palavras)\n",
    "for i in range(max(len(x)for x in palavras)):\n",
    "    for y in palavras:\n",
    "        print(y[i] if i < len(y) else '', end ='')\n",
    "    print()"
   ]
  }
 ],
 "metadata": {
  "kernelspec": {
   "display_name": "Python 3",
   "language": "python",
   "name": "python3"
  },
  "language_info": {
   "codemirror_mode": {
    "name": "ipython",
    "version": 3
   },
   "file_extension": ".py",
   "mimetype": "text/x-python",
   "name": "python",
   "nbconvert_exporter": "python",
   "pygments_lexer": "ipython3",
   "version": "3.12.2"
  }
 },
 "nbformat": 4,
 "nbformat_minor": 2
}
