{
 "cells": [
  {
   "cell_type": "markdown",
   "metadata": {},
   "source": [
    "# Aula 09 - Introdução às Tabela Hash"
   ]
  },
  {
   "cell_type": "markdown",
   "metadata": {},
   "source": [
    "> Tabelas Hash são estruturas de dados comum para localização de grandes quantidades de dados. Devido sua eficiencia na busca, inserção e remoção de elementos utiliza a indexação dos dados como nos dicionarios já vistos em aula."
   ]
  },
  {
   "cell_type": "markdown",
   "metadata": {},
   "source": [
    "Aplicações:<br>\n",
    "1.Banco de dados<br>\n",
    "2.Cache de memória<br>\n",
    "3.Compiladores<br>\n",
    "4.Algoritmos de busca<br>\n",
    "5.Big Data<br>"
   ]
  },
  {
   "cell_type": "code",
   "execution_count": 3,
   "metadata": {},
   "outputs": [
    {
     "name": "stdout",
     "output_type": "stream",
     "text": [
      "Alice no País das Maravilhas\n",
      "Marcelino Pão e Vinho\n",
      "O Código Da Vinci\n"
     ]
    }
   ],
   "source": [
    "class HashTable:\n",
    "    # Construtor da tabela hash\n",
    "    def __init__(self, size=10):\n",
    "        self.size = size\n",
    "        self.table = [[] for _ in range(self.size)]\n",
    "    \n",
    "    # Método que calcula o índice da tabela através da chave\n",
    "    def hash(self, key):\n",
    "        return hash(key) % self.size\n",
    "    \n",
    "    # Método que insere um valor através da sua chave\n",
    "    def insert(self, key, value):\n",
    "        index = self.hash(key)\n",
    "        for y in self.table[index]:\n",
    "            if y[0] == key:\n",
    "                y[1] = value\n",
    "                return\n",
    "        self.table[index].append([key, value])\n",
    "        \n",
    "    # Método de remoção de valor através da sua chave\n",
    "    def remove(self, key):\n",
    "        index = self.hash(key)\n",
    "        for i, y in enumerate(self.table[index]):\n",
    "            if y[0] == key:\n",
    "                del self.table[index][i]\n",
    "                return True\n",
    "        return False\n",
    "        \n",
    "    # Método de busca de valor através de sua chave\n",
    "    def get(self, key):\n",
    "        index = self.hash(key)\n",
    "        for y in self.table[index]:\n",
    "            if y[0] == key:\n",
    "                return y[1]\n",
    "        return None\n",
    "            \n",
    "            \n",
    "# Execução do código\n",
    "if __name__ == \"__main__\":\n",
    "    biblioteca = HashTable()\n",
    "    biblioteca.insert(\"A\", \"Alice no País das Maravilhas\")\n",
    "    biblioteca.insert(\"M\", \"Marcelino Pão e Vinho\")\n",
    "    biblioteca.insert(\"O\", \"O Código Da Vinci\")\n",
    "    \n",
    "    print(biblioteca.get(\"A\"))  \n",
    "    print(biblioteca.get(\"M\"))  \n",
    "    \n",
    "    biblioteca.remove(\"A\")\n",
    "    print(biblioteca.get(\"O\"))  \n"
   ]
  },
  {
   "cell_type": "markdown",
   "metadata": {},
   "source": []
  }
 ],
 "metadata": {
  "kernelspec": {
   "display_name": "Python 3",
   "language": "python",
   "name": "python3"
  },
  "language_info": {
   "codemirror_mode": {
    "name": "ipython",
    "version": 3
   },
   "file_extension": ".py",
   "mimetype": "text/x-python",
   "name": "python",
   "nbconvert_exporter": "python",
   "pygments_lexer": "ipython3",
   "version": "3.11.9"
  }
 },
 "nbformat": 4,
 "nbformat_minor": 2
}
