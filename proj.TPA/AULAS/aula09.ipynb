{
 "cells": [
  {
   "cell_type": "markdown",
   "metadata": {},
   "source": [
    "# Aula 09 - Introdução às Tabela Hash"
   ]
  },
  {
   "cell_type": "markdown",
   "metadata": {},
   "source": [
    "> Tabelas Hash são estruturas de dados comum para localização de grandes quantidades de dados. Devido sua eficiencia na busca, inserção e remoção de elementos utiliza a indexação dos dados como nos dicionarios já vistos em aula."
   ]
  },
  {
   "cell_type": "markdown",
   "metadata": {},
   "source": [
    "Aplicações:<br>\n",
    "1.Banco de dados<br>\n",
    "2.Cache de memória<br>\n",
    "3.Compiladores<br>\n",
    "4.Algoritmos de busca<br>\n",
    "5.Big Data<br>"
   ]
  },
  {
   "cell_type": "code",
   "execution_count": 7,
   "metadata": {},
   "outputs": [
    {
     "ename": "AttributeError",
     "evalue": "'hashTable' object has no attribute 'insert'",
     "output_type": "error",
     "traceback": [
      "\u001b[1;31m---------------------------------------------------------------------------\u001b[0m",
      "\u001b[1;31mAttributeError\u001b[0m                            Traceback (most recent call last)",
      "Cell \u001b[1;32mIn[7], line 1\u001b[0m\n\u001b[1;32m----> 1\u001b[0m \u001b[38;5;28;43;01mclass\u001b[39;49;00m\u001b[43m \u001b[49m\u001b[38;5;21;43;01mhashTable\u001b[39;49;00m\u001b[43m:\u001b[49m\n\u001b[0;32m      2\u001b[0m \u001b[43m    \u001b[49m\u001b[38;5;66;43;03m# Construtor da tabela hash \u001b[39;49;00m\n\u001b[0;32m      3\u001b[0m \u001b[43m    \u001b[49m\u001b[38;5;28;43;01mdef\u001b[39;49;00m\u001b[43m \u001b[49m\u001b[38;5;21;43m__init__\u001b[39;49m\u001b[43m(\u001b[49m\u001b[38;5;28;43mself\u001b[39;49m\u001b[43m,\u001b[49m\u001b[43m \u001b[49m\u001b[43msize\u001b[49m\u001b[38;5;241;43m=\u001b[39;49m\u001b[38;5;241;43m10\u001b[39;49m\u001b[43m)\u001b[49m\u001b[43m:\u001b[49m\n\u001b[0;32m      4\u001b[0m \u001b[43m        \u001b[49m\u001b[38;5;28;43mself\u001b[39;49m\u001b[38;5;241;43m.\u001b[39;49m\u001b[43msize\u001b[49m\u001b[43m \u001b[49m\u001b[38;5;241;43m=\u001b[39;49m\u001b[43m \u001b[49m\u001b[43msize\u001b[49m\u001b[43m;\u001b[49m\n",
      "Cell \u001b[1;32mIn[7], line 30\u001b[0m, in \u001b[0;36mhashTable\u001b[1;34m()\u001b[0m\n\u001b[0;32m     28\u001b[0m \u001b[38;5;28;01mif\u001b[39;00m \u001b[38;5;18m__name__\u001b[39m \u001b[38;5;241m==\u001b[39m \u001b[38;5;124m\"\u001b[39m\u001b[38;5;124m__main__\u001b[39m\u001b[38;5;124m\"\u001b[39m:\n\u001b[0;32m     29\u001b[0m     biblioteca \u001b[38;5;241m=\u001b[39m hashTable()\n\u001b[1;32m---> 30\u001b[0m     \u001b[43mbiblioteca\u001b[49m\u001b[38;5;241;43m.\u001b[39;49m\u001b[43minsert\u001b[49m(\u001b[38;5;124m\"\u001b[39m\u001b[38;5;124mA\u001b[39m\u001b[38;5;124m\"\u001b[39m,\u001b[38;5;124m\"\u001b[39m\u001b[38;5;124mAlice no País das Maravilhas\u001b[39m\u001b[38;5;124m\"\u001b[39m)\n\u001b[0;32m     31\u001b[0m     biblioteca\u001b[38;5;241m.\u001b[39minsert(\u001b[38;5;124m\"\u001b[39m\u001b[38;5;124mM\u001b[39m\u001b[38;5;124m\"\u001b[39m,\u001b[38;5;124m\"\u001b[39m\u001b[38;5;124mMarcelino Pão e Vinho\u001b[39m\u001b[38;5;124m\"\u001b[39m)\n\u001b[0;32m     32\u001b[0m     biblioteca\u001b[38;5;241m.\u001b[39minsert(\u001b[38;5;124m\"\u001b[39m\u001b[38;5;124mO\u001b[39m\u001b[38;5;124m\"\u001b[39m,\u001b[38;5;124m\"\u001b[39m\u001b[38;5;124mO Código Da Vinci\u001b[39m\u001b[38;5;124m\"\u001b[39m) \n",
      "\u001b[1;31mAttributeError\u001b[0m: 'hashTable' object has no attribute 'insert'"
     ]
    }
   ],
   "source": [
    "class hashTable:\n",
    "    # Construtor da tabela hash \n",
    "    def __init__(self, size=10):\n",
    "        self.size = size;\n",
    "        self.table = [[]for _ in range(self.size)]\n",
    "    \n",
    "    # Metodo que calcula o indice da tabela através da chave    \n",
    "    def hash(self,key):\n",
    "        return hash(key) % self.size\n",
    "    \n",
    "    # Metodo que insere um valor através da sua chave\n",
    "    def inser(self, key, value):\n",
    "        index = self.hash(key)\n",
    "        for y in self.table[index]:\n",
    "            if y[0] == key:\n",
    "                y[1] = value\n",
    "                return\n",
    "        self.table[index].append([key, value])\n",
    "        \n",
    "    # Metodo de remoção de valor através da sua chave\n",
    "    def remove(self, key):\n",
    "        index = self._hash(key)\n",
    "        for i, y in enumerate(self.table(index)):\n",
    "            if y[0] == key:\n",
    "                del self.table[index][i]\n",
    "                return True\n",
    "            return False\n",
    "        \n",
    "    # Metodo de busca de valor através de sua chave\n",
    "    def get(self, key):\n",
    "        index = self._hash(key)\n",
    "        for i, y in enumerate(self.table(index)):\n",
    "            if y[0] == key:\n",
    "                return y[1]\n",
    "            return None\n",
    "            \n",
    "            \n",
    "    if __name__ == \"__main__\":\n",
    "        biblioteca = hashTable()\n",
    "        biblioteca.insert(\"A\",\"Alice no País das Maravilhas\")\n",
    "        biblioteca.insert(\"M\",\"Marcelino Pão e Vinho\")\n",
    "        biblioteca.insert(\"O\",\"O Código Da Vinci\") \n",
    "        \n",
    "        print(biblioteca.get(\"A\"))\n",
    "        print(biblioteca.get(\"B\"))\n",
    "        \n",
    "        biblioteca.remove(\"A\")\n",
    "        print(biblioteca.get(\"A\"))"
   ]
  },
  {
   "cell_type": "markdown",
   "metadata": {},
   "source": []
  }
 ],
 "metadata": {
  "kernelspec": {
   "display_name": "Python 3",
   "language": "python",
   "name": "python3"
  },
  "language_info": {
   "codemirror_mode": {
    "name": "ipython",
    "version": 3
   },
   "file_extension": ".py",
   "mimetype": "text/x-python",
   "name": "python",
   "nbconvert_exporter": "python",
   "pygments_lexer": "ipython3",
   "version": "3.12.2"
  }
 },
 "nbformat": 4,
 "nbformat_minor": 2
}
