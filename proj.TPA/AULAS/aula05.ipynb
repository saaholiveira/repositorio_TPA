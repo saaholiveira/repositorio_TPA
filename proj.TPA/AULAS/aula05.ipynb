{
 "cells": [
  {
   "cell_type": "markdown",
   "metadata": {},
   "source": [
    "# Aula 05 - Introdução ao List comprehension e Format  17/09/2024"
   ]
  },
  {
   "cell_type": "markdown",
   "metadata": {},
   "source": [
    "> Nessa aula iremos dar introdução ao Listcomprehension, uma forma mais simples de realizar conversação de valores entre duas ou mais listas. Atualmente é uma das formas mais simples de aplicar conversões, substituindo as declarações mais extensas do que o metodo conversional, lambda e map."
   ]
  },
  {
   "cell_type": "markdown",
   "metadata": {},
   "source": [
    "## Exemplo 1 - Conversão de Celcius para Fahrenheit "
   ]
  },
  {
   "cell_type": "code",
   "execution_count": 1,
   "metadata": {},
   "outputs": [
    {
     "name": "stdout",
     "output_type": "stream",
     "text": [
      "[50.0, 68.0, 75.2, 95.0, 104.0]\n"
     ]
    }
   ],
   "source": [
    "celcius = [10,20,24,35,40]\n",
    "fahrenheit = [round(x*1.8+32,2) for x in celcius]\n",
    "print(fahrenheit)"
   ]
  },
  {
   "cell_type": "markdown",
   "metadata": {},
   "source": [
    "## Exemplo 2 - Conversão de KMH para MPH"
   ]
  },
  {
   "cell_type": "code",
   "execution_count": 2,
   "metadata": {},
   "outputs": [
    {
     "name": "stdout",
     "output_type": "stream",
     "text": [
      "[62.11, 15.53, 43.48, 49.69, 111.8]\n"
     ]
    }
   ],
   "source": [
    "kmh = [100,25,70,80,180]\n",
    "mph = [round(x/1.61,2) for x in kmh]\n",
    "print(mph)"
   ]
  },
  {
   "cell_type": "code",
   "execution_count": 7,
   "metadata": {},
   "outputs": [
    {
     "name": "stdout",
     "output_type": "stream",
     "text": [
      "kmh   mph   \n",
      "============\n",
      "100   62.11 \n",
      "25    15.53 \n",
      "70    43.48 \n",
      "80    49.69 \n",
      "180   111.8 \n"
     ]
    }
   ],
   "source": [
    "print(\"{:<6}{:<6}\".format(\"kmh\",\"mph\"))\n",
    "print(\"============\")\n",
    "x = 0\n",
    "while(x<len(kmh)):\n",
    "    print(\"{:<6}{:<6}\".format(kmh[x],mph[x]))\n",
    "    x += 1"
   ]
  },
  {
   "cell_type": "code",
   "execution_count": 11,
   "metadata": {},
   "outputs": [
    {
     "name": "stdout",
     "output_type": "stream",
     "text": [
      "celcius fahrenheit\n",
      "====================\n",
      "10      50.0  \n",
      "20      68.0  \n",
      "24      75.2  \n",
      "35      95.0  \n",
      "40      104.0 \n"
     ]
    }
   ],
   "source": [
    "print(\"{:<8}{:<6}\".format(\"celcius\",\"fahrenheit\"))\n",
    "print(\"====================\")\n",
    "x = 0\n",
    "while(x<len(celcius)):\n",
    "    print(\"{:<8}{:<6}\".format(celcius[x],fahrenheit[x]))\n",
    "    x += 1"
   ]
  },
  {
   "cell_type": "markdown",
   "metadata": {},
   "source": [
    "## Exercício 1"
   ]
  },
  {
   "cell_type": "markdown",
   "metadata": {},
   "source": [
    "> Crie uma lista com 10 valores em metros. Crie uma tabela de conversão para polegadas, pés jardas e mílhas marítmas. Listando o número da linha e o cabeçalho da tabela"
   ]
  },
  {
   "cell_type": "code",
   "execution_count": 12,
   "metadata": {},
   "outputs": [
    {
     "name": "stdout",
     "output_type": "stream",
     "text": [
      "[196.85, 393.7, 590.55, 787.4, 984.25, 1181.1, 1377.95, 1574.8, 1771.65, 1968.5]\n"
     ]
    }
   ],
   "source": [
    "metros = [5,10,15,20,25,30,35,40,45,50]\n",
    "polegadas = [round(x*39.37,2) for x in metros]\n",
    "print(polegadas)"
   ]
  },
  {
   "cell_type": "code",
   "execution_count": 13,
   "metadata": {},
   "outputs": [
    {
     "name": "stdout",
     "output_type": "stream",
     "text": [
      "[16.41, 32.81, 49.22, 65.62, 82.03, 98.43, 114.84, 131.24, 147.65, 164.05]\n"
     ]
    }
   ],
   "source": [
    "metros = [5,10,15,20,25,30,35,40,45,50]\n",
    "pés = [round(x*3.281,2) for x in metros]\n",
    "print(pés)"
   ]
  },
  {
   "cell_type": "code",
   "execution_count": 14,
   "metadata": {},
   "outputs": [
    {
     "name": "stdout",
     "output_type": "stream",
     "text": [
      "[5.47, 10.94, 16.41, 21.88, 27.35, 32.82, 38.29, 43.76, 49.23, 54.7]\n"
     ]
    }
   ],
   "source": [
    "metros = [5,10,15,20,25,30,35,40,45,50]\n",
    "jardas = [round(x*1.094,2) for x in metros]\n",
    "print(jardas)"
   ]
  },
  {
   "cell_type": "code",
   "execution_count": 17,
   "metadata": {},
   "outputs": [
    {
     "name": "stdout",
     "output_type": "stream",
     "text": [
      "[0.0, 0.01, 0.01, 0.01, 0.01, 0.02, 0.02, 0.02, 0.02, 0.03]\n"
     ]
    }
   ],
   "source": [
    "metros = [5,10,15,20,25,30,35,40,45,50]\n",
    "milhasm = [round(x/1852,2) for x in metros]\n",
    "print(milhasm)"
   ]
  },
  {
   "cell_type": "code",
   "execution_count": 21,
   "metadata": {},
   "outputs": [
    {
     "name": "stdout",
     "output_type": "stream",
     "text": [
      "metros    polegadas pés       jardas    milhasm   \n",
      "===============================================\n",
      "5         196.85    16.41     5.47      0.0       \n",
      "10        393.7     32.81     10.94     0.01      \n",
      "15        590.55    49.22     16.41     0.01      \n",
      "20        787.4     65.62     21.88     0.01      \n",
      "25        984.25    82.03     27.35     0.01      \n",
      "30        1181.1    98.43     32.82     0.02      \n",
      "35        1377.95   114.84    38.29     0.02      \n",
      "40        1574.8    131.24    43.76     0.02      \n",
      "45        1771.65   147.65    49.23     0.02      \n",
      "50        1968.5    164.05    54.7      0.03      \n"
     ]
    }
   ],
   "source": [
    "print(\"{:<10}{:<10}{:<10}{:<10}{:<10}\".format(\"metros\",\"polegadas\",\"pés\",\"jardas\",\"milhasm\"))\n",
    "print(\"===============================================\")\n",
    "x = 0\n",
    "while(x<len(metros)):\n",
    "    print(\"{:<10}{:<10}{:<10}{:<10}{:<10}\".format(metros[x],polegadas[x],pés[x],jardas[x],milhasm[x]))\n",
    "    x += 1"
   ]
  },
  {
   "cell_type": "markdown",
   "metadata": {},
   "source": [
    "## Exercício 2 "
   ]
  },
  {
   "cell_type": "markdown",
   "metadata": {},
   "source": [
    "> Crie uma lista com 10 valores em Kalvin. Cri uma tabela de conversão para celcius e fahrenheit, listando o número de linha e o cabeçalho da tabela"
   ]
  },
  {
   "cell_type": "code",
   "execution_count": 22,
   "metadata": {},
   "outputs": [
    {
     "name": "stdout",
     "output_type": "stream",
     "text": [
      "[373, 473, 573, 673, 773, 873, 973, 1073, 1173, 1223]\n"
     ]
    }
   ],
   "source": [
    "kelvin = [100,200,300,400,500,600,700,800,900,950]\n",
    "celcius = [round(x+273,2) for x in kelvin]\n",
    "print(celcius)"
   ]
  },
  {
   "cell_type": "code",
   "execution_count": 25,
   "metadata": {},
   "outputs": [
    {
     "name": "stdout",
     "output_type": "stream",
     "text": [
      "[-279.67, -99.67, 80.33, 260.33, 440.33, 620.33, 800.33, 980.33, 1160.33, 1250.33]\n"
     ]
    }
   ],
   "source": [
    "kelvin = [100,200,300,400,500,600,700,800,900,950]\n",
    "fahrenheit = [round(x*1.8-459.67,2) for x in kelvin]\n",
    "print(fahrenheit)"
   ]
  },
  {
   "cell_type": "code",
   "execution_count": 26,
   "metadata": {},
   "outputs": [
    {
     "name": "stdout",
     "output_type": "stream",
     "text": [
      "kelvin    celcius   fahrenheit\n",
      "===============================\n",
      "100       373       -279.67   \n",
      "200       473       -99.67    \n",
      "300       573       80.33     \n",
      "400       673       260.33    \n",
      "500       773       440.33    \n",
      "600       873       620.33    \n",
      "700       973       800.33    \n",
      "800       1073      980.33    \n",
      "900       1173      1160.33   \n",
      "950       1223      1250.33   \n"
     ]
    }
   ],
   "source": [
    "print(\"{:<10}{:<10}{:<10}\".format(\"kelvin\",\"celcius\",\"fahrenheit\"))\n",
    "print(\"===============================\")\n",
    "x = 0\n",
    "while(x<len(metros)):\n",
    "    print(\"{:<10}{:<10}{:<10}\".format(kelvin[x],celcius[x],fahrenheit[x],))\n",
    "    x += 1"
   ]
  }
 ],
 "metadata": {
  "kernelspec": {
   "display_name": "Python 3",
   "language": "python",
   "name": "python3"
  },
  "language_info": {
   "codemirror_mode": {
    "name": "ipython",
    "version": 3
   },
   "file_extension": ".py",
   "mimetype": "text/x-python",
   "name": "python",
   "nbconvert_exporter": "python",
   "pygments_lexer": "ipython3",
   "version": "3.12.2"
  }
 },
 "nbformat": 4,
 "nbformat_minor": 2
}
