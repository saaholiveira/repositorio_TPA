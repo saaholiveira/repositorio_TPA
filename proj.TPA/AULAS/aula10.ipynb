{
 "cells": [
  {
   "cell_type": "markdown",
   "metadata": {},
   "source": [
    "## Introdução á Árvore Binária"
   ]
  },
  {
   "cell_type": "markdown",
   "metadata": {},
   "source": [
    "> Árvores são essênciais para a organização de dados de forma alfabética ou numeral. Através de nós um valor é comparado ao nó inicial. Após verificar se o valor é maior ou menor que o nó ele será reposicionado na memória a esquerda (menor) ou a direita (maior) que o nó inicial. Assim possibilita a organização dos dadosdebtri de yna kusta como o método .sort(). Após isso ele se torna um nó podendo utilizar o método debtri deke mesmo, chamado de recursividade"
   ]
  },
  {
   "cell_type": "code",
   "execution_count": 146,
   "metadata": {},
   "outputs": [],
   "source": [
    "class No:\n",
    "    def __init__(self, valor):\n",
    "        self.esquerda = None\n",
    "        self.direita = None\n",
    "        self.valor = valor"
   ]
  },
  {
   "cell_type": "markdown",
   "metadata": {},
   "source": [
    "### Inserindo o método inserir"
   ]
  },
  {
   "cell_type": "code",
   "execution_count": 147,
   "metadata": {},
   "outputs": [],
   "source": [
    "def inserir(raiz, chave):\n",
    "    if raiz is None:\n",
    "        return No(chave)\n",
    "    else:\n",
    "        if chave < raiz.valor:\n",
    "            raiz.esquerda = inserir(raiz.esquerda, chave)\n",
    "        else:\n",
    "            raiz.direita = inserir(raiz.direita, chave)\n",
    "    return raiz"
   ]
  },
  {
   "cell_type": "markdown",
   "metadata": {},
   "source": [
    "### Método de ordenação"
   ]
  },
  {
   "cell_type": "code",
   "execution_count": 148,
   "metadata": {},
   "outputs": [],
   "source": [
    "def ordenar(raiz):\n",
    "    if raiz:\n",
    "        ordenar(raiz.esquerda)\n",
    "        print(raiz.valor, end=\" \")\n",
    "        ordenar(raiz.direita)"
   ]
  },
  {
   "cell_type": "markdown",
   "metadata": {},
   "source": [
    "### Método Principal"
   ]
  },
  {
   "cell_type": "code",
   "execution_count": 149,
   "metadata": {},
   "outputs": [
    {
     "name": "stdout",
     "output_type": "stream",
     "text": [
      "Em ordem -> 0 1 2 7 8 9 10 \n"
     ]
    }
   ],
   "source": [
    "if __name__ == '__main__':\n",
    " raiz = None\n",
    " valores = [10,7,8,2,1,0,9]\n",
    "\n",
    "for x in valores:\n",
    "   raiz = inserir(raiz, x)\n",
    "\n",
    "print(\"Em ordem ->\", end=\" \")\n",
    "ordenar(raiz)\n",
    "print()"
   ]
  },
  {
   "cell_type": "markdown",
   "metadata": {},
   "source": [
    "### Inserindo valores aleatorios"
   ]
  },
  {
   "cell_type": "code",
   "execution_count": 150,
   "metadata": {},
   "outputs": [
    {
     "name": "stdout",
     "output_type": "stream",
     "text": [
      "7\n"
     ]
    }
   ],
   "source": [
    "import random\n",
    "aleatorio = random.randint(1,10)\n",
    "print(aleatorio)"
   ]
  },
  {
   "cell_type": "markdown",
   "metadata": {},
   "source": [
    "### Exercicio 1"
   ]
  },
  {
   "cell_type": "markdown",
   "metadata": {},
   "source": [
    "> Crie um metodo que insira 10 valores aleatorios de 0 a 100. Apos isso organize-os e mostre-os."
   ]
  },
  {
   "cell_type": "code",
   "execution_count": 151,
   "metadata": {},
   "outputs": [
    {
     "name": "stdout",
     "output_type": "stream",
     "text": [
      "Em ordem -> 14 14 17 17 18 18 51 51 55 55 57 57 59 59 85 85 93 93 100 100 \n"
     ]
    }
   ],
   "source": [
    "import random as y\n",
    "if __name__ == '__main__':\n",
    " raiz = None\n",
    " lista = []\n",
    "\n",
    "for x in range(10):\n",
    "   lista.append(y.randint(0,100))\n",
    "\n",
    "for x in lista:\n",
    "   raiz = inserir(raiz, x)\n",
    "   raiz = inserir(raiz, x)\n",
    "\n",
    "print(\"Em ordem ->\", end=\" \", )\n",
    "ordenar(raiz)\n",
    "print()"
   ]
  },
  {
   "cell_type": "markdown",
   "metadata": {},
   "source": [
    "### Exercicio 2"
   ]
  },
  {
   "cell_type": "markdown",
   "metadata": {},
   "source": [
    "> Crie um metodo que insira 5 valores aleatorios de 0 a 10. Apos isso organize-os de forma decrescente e mostre-os"
   ]
  },
  {
   "cell_type": "code",
   "execution_count": 152,
   "metadata": {},
   "outputs": [],
   "source": [
    "def ordenar(raiz):\n",
    "    if raiz:\n",
    "        ordenar(raiz.direita)\n",
    "        print(raiz.valor, end=\" \")\n",
    "        ordenar(raiz.esquerda)"
   ]
  },
  {
   "cell_type": "code",
   "execution_count": 153,
   "metadata": {},
   "outputs": [
    {
     "name": "stdout",
     "output_type": "stream",
     "text": [
      "Em ordem decrescente-> 94 90 88 86 74 68 67 59 7 7 \n"
     ]
    }
   ],
   "source": [
    "import random as y\n",
    "if __name__ == '__main__':\n",
    " raiz = None\n",
    " lista = []\n",
    "\n",
    "for x in range(10):\n",
    "   lista.append(y.randint(0,100))\n",
    "\n",
    "for x in lista:\n",
    "   raiz = inserir(raiz, x)\n",
    "\n",
    "print(\"Em ordem decrescente->\", end=\" \", )\n",
    "\n",
    "ordenar(raiz)\n",
    "print()"
   ]
  }
 ],
 "metadata": {
  "kernelspec": {
   "display_name": "Python 3",
   "language": "python",
   "name": "python3"
  },
  "language_info": {
   "codemirror_mode": {
    "name": "ipython",
    "version": 3
   },
   "file_extension": ".py",
   "mimetype": "text/x-python",
   "name": "python",
   "nbconvert_exporter": "python",
   "pygments_lexer": "ipython3",
   "version": "3.12.2"
  }
 },
 "nbformat": 4,
 "nbformat_minor": 2
}
