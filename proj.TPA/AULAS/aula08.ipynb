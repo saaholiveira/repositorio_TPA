{
 "cells": [
  {
   "cell_type": "markdown",
   "metadata": {},
   "source": [
    "# Aula 08 - Introdução a estrutura de dados "
   ]
  },
  {
   "cell_type": "markdown",
   "metadata": {},
   "source": [
    "## Fila(FIFO)"
   ]
  },
  {
   "cell_type": "code",
   "execution_count": 23,
   "metadata": {},
   "outputs": [],
   "source": [
    "class Fila:\n",
    "    def __init__(self):\n",
    "        self.fila=[]\n",
    "        \n",
    "    def enfileirar(self, item):\n",
    "        self.fila.append(item)\n",
    "        print(f\"{item} chegou no caixa\")\n",
    "        \n",
    "    def vazio(self):\n",
    "        return len(self.fila) == 0\n",
    "        \n",
    "    def desinfileirar(self):\n",
    "        if not self.vazio():\n",
    "            item = self.fila.pop(0)\n",
    "            print(f\"{item} foi removido da fila\")\n",
    "            return item\n",
    "        else:\n",
    "            print(\"O caixa está livre\")\n",
    "            return None\n",
    "        \n",
    "    def tamanho(self):\n",
    "        if len(self.fila)==0:\n",
    "            print(\"O caixa está livre\")\n",
    "        else:\n",
    "            print(f\"Tem {len(self.fila)} pessoas na fila\")"
   ]
  },
  {
   "cell_type": "markdown",
   "metadata": {},
   "source": [
    "## Atividade 1 - EXEMPLO "
   ]
  },
  {
   "cell_type": "markdown",
   "metadata": {},
   "source": [
    "\n",
    "> João está no mercado entre Vó Maria e Caique que chegou logo atrás para ir ao caixa. Tendo como fila estrutura de dados. Adicione os três a fila nessa ordem e atenda a Vó Maria, e depois mostre o tamanho da fila. "
   ]
  },
  {
   "cell_type": "code",
   "execution_count": 22,
   "metadata": {},
   "outputs": [
    {
     "name": "stdout",
     "output_type": "stream",
     "text": [
      "Vó Maria chegou mo caixa\n",
      "Caique chegou mo caixa\n",
      "João chegou mo caixa\n",
      "Vó Maria foi removido da fila\n",
      "Tem 2 pessoas na fila\n"
     ]
    }
   ],
   "source": [
    "fila = Fila()\n",
    "fila.enfileirar('Vó Maria')\n",
    "fila.enfileirar('Caique')\n",
    "fila.enfileirar('João')\n",
    "fila.desinfileirar()\n",
    "fila.tamanho()"
   ]
  },
  {
   "cell_type": "code",
   "execution_count": 24,
   "metadata": {},
   "outputs": [
    {
     "name": "stdout",
     "output_type": "stream",
     "text": [
      "Caique foi removido da fila\n",
      "João foi removido da fila\n",
      "O caixa está livre\n"
     ]
    }
   ],
   "source": [
    "fila.desinfileirar()\n",
    "fila.desinfileirar()\n",
    "fila.tamanho()"
   ]
  },
  {
   "cell_type": "markdown",
   "metadata": {},
   "source": [
    "## FIFO utilizando Collections deque"
   ]
  },
  {
   "cell_type": "code",
   "execution_count": 25,
   "metadata": {},
   "outputs": [],
   "source": [
    "from collections import deque\n",
    "\n",
    "class Farmacia:\n",
    "    def __init__(self):\n",
    "        self.farmacia = deque()\n",
    "        \n",
    "    def aguardar(self,nome):\n",
    "        self.farmacia.append(nome)\n",
    "        print(f\"{nome} está na fila\")\n",
    "        \n",
    "    def vazio(self):\n",
    "        return len(self.farmacia) == 0\n",
    "    \n",
    "    def atender(self):\n",
    "        if not self.vazio():\n",
    "            nome = self.farmacia.popleft()\n",
    "            print(f\"{nome} foi atendido(a)\")\n",
    "        else:\n",
    "            print(\"O(A) atendente está livre\")\n",
    "            \n",
    "    def tamanho(self):\n",
    "        if len(self.farmacia)==0:\n",
    "            print(\"A fila está vazia\")\n",
    "        else:\n",
    "            print(f\"Tem {len(self.farmacia)} pessoas na fila\")"
   ]
  },
  {
   "cell_type": "markdown",
   "metadata": {},
   "source": [
    "## Atividade 2 - Atendimento da Faramacia"
   ]
  },
  {
   "cell_type": "markdown",
   "metadata": {},
   "source": [
    "> Ao abrir a farmacia pela manhâ, a balconista recebe 5 pessoas, 3 delas são atendidas e vão ao caixa. As deamais então aguardando para serem atendidas. Inclua o nome das 5 pessoas, atenda 3 e depois mostre o tamanho da fila."
   ]
  },
  {
   "cell_type": "code",
   "execution_count": 28,
   "metadata": {},
   "outputs": [
    {
     "ename": "AttributeError",
     "evalue": "'Farmacia' object has no attribute 'enfileirar'",
     "output_type": "error",
     "traceback": [
      "\u001b[1;31m---------------------------------------------------------------------------\u001b[0m",
      "\u001b[1;31mAttributeError\u001b[0m                            Traceback (most recent call last)",
      "Cell \u001b[1;32mIn[28], line 2\u001b[0m\n\u001b[0;32m      1\u001b[0m fila \u001b[38;5;241m=\u001b[39m Farmacia()\n\u001b[1;32m----> 2\u001b[0m \u001b[43mfila\u001b[49m\u001b[38;5;241;43m.\u001b[39;49m\u001b[43menfileirar\u001b[49m(\u001b[38;5;124m'\u001b[39m\u001b[38;5;124mManu\u001b[39m\u001b[38;5;124m'\u001b[39m)\n\u001b[0;32m      3\u001b[0m fila\u001b[38;5;241m.\u001b[39menfileirar(\u001b[38;5;124m'\u001b[39m\u001b[38;5;124mSarah\u001b[39m\u001b[38;5;124m'\u001b[39m)\n\u001b[0;32m      4\u001b[0m fila\u001b[38;5;241m.\u001b[39menfileirar(\u001b[38;5;124m'\u001b[39m\u001b[38;5;124mLuana\u001b[39m\u001b[38;5;124m'\u001b[39m)\n",
      "\u001b[1;31mAttributeError\u001b[0m: 'Farmacia' object has no attribute 'enfileirar'"
     ]
    }
   ],
   "source": [
    "fila = Farmacia()\n",
    "fila.enfileirar('Manu')\n",
    "fila.enfileirar('Sarah')\n",
    "fila.enfileirar('Luana')\n",
    "fila.enfileirar('Pedro')\n",
    "fila.enfileirar('Miguel')\n",
    "fila.tamanho()"
   ]
  },
  {
   "cell_type": "markdown",
   "metadata": {},
   "source": [
    "# Pilha (LIFO)"
   ]
  },
  {
   "cell_type": "code",
   "execution_count": 30,
   "metadata": {},
   "outputs": [],
   "source": [
    "class editor:\n",
    "    def __init__(self):\n",
    "        self.texto = \"\"\n",
    "        self.historico = []\n",
    "        \n",
    "    def escrever(self, texto):\n",
    "        self.historico.append(self.texto)\n",
    "        self.texto += texto\n",
    "        \n",
    "    def desfazer(self):\n",
    "        if self.historico:\n",
    "            self.texto = self.historico.pop()\n",
    "        else:\n",
    "            self.texto = \"\"\n",
    "            \n",
    "    def visualizar(self):\n",
    "        print(self.texto)"
   ]
  },
  {
   "cell_type": "markdown",
   "metadata": {},
   "source": [
    "# Atividade 3"
   ]
  },
  {
   "cell_type": "markdown",
   "metadata": {},
   "source": [
    "> Em um editor Yago escreve primeiro \"Olá\", depois \"mundo!\" e por ultimo \"Por.\" e \"Yago\", Depois disso ele exibiu o texto editado. Logo após decidiu remover /'Por.Yago\". Faça um algoritmo que realize o passo-a-passo de Yago."
   ]
  }
 ],
 "metadata": {
  "kernelspec": {
   "display_name": "Python 3",
   "language": "python",
   "name": "python3"
  },
  "language_info": {
   "codemirror_mode": {
    "name": "ipython",
    "version": 3
   },
   "file_extension": ".py",
   "mimetype": "text/x-python",
   "name": "python",
   "nbconvert_exporter": "python",
   "pygments_lexer": "ipython3",
   "version": "3.12.2"
  }
 },
 "nbformat": 4,
 "nbformat_minor": 2
}
