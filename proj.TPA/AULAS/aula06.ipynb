{
 "cells": [
  {
   "cell_type": "markdown",
   "metadata": {},
   "source": [
    "# Aula06 - Introdução a Tuplas e Dicionario"
   ]
  },
  {
   "cell_type": "code",
   "execution_count": 7,
   "metadata": {},
   "outputs": [
    {
     "name": "stdout",
     "output_type": "stream",
     "text": [
      "[2, 5, 9]\n"
     ]
    }
   ],
   "source": [
    "lista = [2, 5, 9]\n",
    "lista[1]\n",
    "print(lista)"
   ]
  },
  {
   "cell_type": "code",
   "execution_count": 8,
   "metadata": {},
   "outputs": [
    {
     "name": "stdout",
     "output_type": "stream",
     "text": [
      "[2, 5, 9, 7]\n"
     ]
    }
   ],
   "source": [
    "lista.append(7)\n",
    "print(lista)"
   ]
  },
  {
   "cell_type": "markdown",
   "metadata": {},
   "source": [
    "# Tuplas"
   ]
  },
  {
   "cell_type": "markdown",
   "metadata": {},
   "source": [
    "> Tuplas não são mutáveis, não se modificam, ou seja, se você alterar o valor de uma tupla, o valor antigo será esquecido.  "
   ]
  },
  {
   "cell_type": "code",
   "execution_count": 9,
   "metadata": {},
   "outputs": [
    {
     "data": {
      "text/plain": [
       "8"
      ]
     },
     "execution_count": 9,
     "metadata": {},
     "output_type": "execute_result"
    }
   ],
   "source": [
    "tupla = (6, 8, 9)\n",
    "tupla[1]"
   ]
  },
  {
   "cell_type": "markdown",
   "metadata": {},
   "source": [
    "# Dicionário"
   ]
  },
  {
   "cell_type": "code",
   "execution_count": 11,
   "metadata": {},
   "outputs": [],
   "source": [
    "dicionario = {\n",
    "    'curso' : 'Desenvolvimento de Sistemas',\n",
    "    'ano' : 2024,\n",
    "    'modulo' : 'Técnicas de programação e algoritmo',\n",
    "    'professor' : 'Gustavo'\n",
    "}"
   ]
  },
  {
   "cell_type": "code",
   "execution_count": 12,
   "metadata": {},
   "outputs": [
    {
     "name": "stdout",
     "output_type": "stream",
     "text": [
      "Desenvolvimento de Sistemas\n",
      "2024\n",
      "Técnicas de programação e algoritmo\n",
      "Gustavo\n"
     ]
    }
   ],
   "source": [
    "print(dicionario ['curso'])\n",
    "print(dicionario ['ano'])\n",
    "print(dicionario ['modulo'])\n",
    "print(dicionario ['professor'])"
   ]
  },
  {
   "cell_type": "code",
   "execution_count": 13,
   "metadata": {},
   "outputs": [
    {
     "name": "stdout",
     "output_type": "stream",
     "text": [
      "9.5\n"
     ]
    }
   ],
   "source": [
    "dicionario['nota'] = 9.5\n",
    "print(dicionario['nota'])"
   ]
  },
  {
   "cell_type": "code",
   "execution_count": 14,
   "metadata": {},
   "outputs": [
    {
     "name": "stdout",
     "output_type": "stream",
     "text": [
      "curso\n",
      "ano\n",
      "modulo\n",
      "professor\n",
      "nota\n"
     ]
    }
   ],
   "source": [
    "for x in dicionario.keys():\n",
    "    print(x)"
   ]
  },
  {
   "cell_type": "code",
   "execution_count": 15,
   "metadata": {},
   "outputs": [
    {
     "name": "stdout",
     "output_type": "stream",
     "text": [
      "dict_keys(['curso', 'ano', 'modulo', 'professor', 'nota'])\n",
      "dict_values(['Desenvolvimento de Sistemas', 2024, 'Técnicas de programação e algoritmo', 'Gustavo', 9.5])\n"
     ]
    }
   ],
   "source": [
    "print(dicionario.keys())\n",
    "print(dicionario.values())"
   ]
  },
  {
   "cell_type": "code",
   "execution_count": 17,
   "metadata": {},
   "outputs": [
    {
     "name": "stdout",
     "output_type": "stream",
     "text": [
      "{}\n"
     ]
    }
   ],
   "source": [
    "dicionario.clear()\n",
    "print(dicionario)"
   ]
  },
  {
   "cell_type": "markdown",
   "metadata": {},
   "source": [
    "## Exercícios "
   ]
  },
  {
   "cell_type": "markdown",
   "metadata": {},
   "source": [
    "> Crie 3 dicionarios: matricula, aluno e diciplina.<br> A matricula terá código da matricula, data_inscrição e curso; o Aluno terá resgistro e nome;<br> A Diciplina terá registro e professor. Ao final adicione os três dicionarios em uma tupla chamada escola."
   ]
  },
  {
   "cell_type": "markdown",
   "metadata": {},
   "source": [
    "### Matrícula"
   ]
  },
  {
   "cell_type": "code",
   "execution_count": 32,
   "metadata": {},
   "outputs": [],
   "source": [
    "matricula = {\n",
    "    'codigo' : 240074,\n",
    "    'data_inscricao' : '15/01/2024',\n",
    "    'curso' : 'Desenvolvimeno de Sistemas'\n",
    "}"
   ]
  },
  {
   "cell_type": "code",
   "execution_count": 33,
   "metadata": {},
   "outputs": [
    {
     "name": "stdout",
     "output_type": "stream",
     "text": [
      "240074\n",
      "15/01/2024\n",
      "Desenvolvimeno de Sistemas\n"
     ]
    }
   ],
   "source": [
    "print(matricula ['codigo'])\n",
    "print(matricula['data_inscricao'])\n",
    "print(matricula ['curso'])"
   ]
  },
  {
   "cell_type": "markdown",
   "metadata": {},
   "source": [
    "### Aluno"
   ]
  },
  {
   "cell_type": "code",
   "execution_count": 34,
   "metadata": {},
   "outputs": [],
   "source": [
    "aluno = {\n",
    "    'registro' : 240074,\n",
    "    'nome' : 'Sarah Olivatto de Oliveira'\n",
    "}"
   ]
  },
  {
   "cell_type": "code",
   "execution_count": 35,
   "metadata": {},
   "outputs": [
    {
     "name": "stdout",
     "output_type": "stream",
     "text": [
      "240074\n",
      "Sarah Olivatto de Oliveira\n"
     ]
    }
   ],
   "source": [
    "print(aluno ['registro'])\n",
    "print(aluno['nome'])\n"
   ]
  },
  {
   "cell_type": "markdown",
   "metadata": {},
   "source": [
    "### Diciplina"
   ]
  },
  {
   "cell_type": "code",
   "execution_count": 37,
   "metadata": {},
   "outputs": [],
   "source": [
    "diciplina = {\n",
    "    'registro' : 'TPA',\n",
    "    'Professor' : 'Gustavo'\n",
    "}"
   ]
  },
  {
   "cell_type": "code",
   "execution_count": 38,
   "metadata": {},
   "outputs": [
    {
     "name": "stdout",
     "output_type": "stream",
     "text": [
      "TPA\n",
      "Gustavo\n"
     ]
    }
   ],
   "source": [
    "print(diciplina ['registro'])\n",
    "print(diciplina['Professor'])"
   ]
  },
  {
   "cell_type": "markdown",
   "metadata": {},
   "source": [
    "### Tuplas"
   ]
  },
  {
   "cell_type": "code",
   "execution_count": 39,
   "metadata": {},
   "outputs": [
    {
     "name": "stdout",
     "output_type": "stream",
     "text": [
      "dict_values([240074, '15/01/2024', 'Desenvolvimeno de Sistemas'])\n",
      "dict_values([240074, 'Sarah Olivatto de Oliveira'])\n",
      "dict_values(['TPA', 'Gustavo'])\n"
     ]
    }
   ],
   "source": [
    "escola =(matricula,aluno,diciplina)\n",
    "for x in escola:\n",
    "    print(x.values())"
   ]
  },
  {
   "cell_type": "markdown",
   "metadata": {},
   "source": [
    "## Exercício 2"
   ]
  },
  {
   "cell_type": "markdown",
   "metadata": {},
   "source": [
    "> Crie três dicionarios para as seguites tabelas: vendendor, produto e venda. O vndedor terá registro, nome e admissão;<br> O produo terá o ID, nome, fabricante; A venda terá reg_vendedor, id_produto e valor. Após a criação dos dicionários,<br> adicionem a uma tupla chamada casas_baiano"
   ]
  },
  {
   "cell_type": "code",
   "execution_count": 43,
   "metadata": {},
   "outputs": [
    {
     "name": "stdout",
     "output_type": "stream",
     "text": [
      "dict_values(['vendedor de móveis', 'Junior Gonzaga', '05/09/2020'])\n",
      "dict_values(['394758', 'Iphone 15 Pro Max', 'Apple'])\n",
      "dict_values(['vendedor de móveis', '394758', 'R$8.500,00'])\n"
     ]
    }
   ],
   "source": [
    "vendedor = {\n",
    "    'registro' : 'vendedor de móveis',\n",
    "    'nome' : 'Junior Gonzaga',\n",
    "    'admissão' : '05/09/2020'\n",
    "}\n",
    "\n",
    "produto = {\n",
    "    'ID' : '394758',\n",
    "    'nome' : 'Iphone 15 Pro Max',\n",
    "    'fabricante' : 'Apple'\n",
    "}\n",
    "\n",
    "Venda = {\n",
    "    'reg_vendedor' : 'vendedor de móveis',\n",
    "    'id_produto' : '394758',\n",
    "    'valor' : 'R$8.500,00'\n",
    "}\n",
    "\n",
    "casas_baiano =(vendedor,produto,Venda)\n",
    "for x in casas_baiano:\n",
    "    print(x.values())\n",
    "\n"
   ]
  }
 ],
 "metadata": {
  "kernelspec": {
   "display_name": "Python 3",
   "language": "python",
   "name": "python3"
  },
  "language_info": {
   "codemirror_mode": {
    "name": "ipython",
    "version": 3
   },
   "file_extension": ".py",
   "mimetype": "text/x-python",
   "name": "python",
   "nbconvert_exporter": "python",
   "pygments_lexer": "ipython3",
   "version": "3.12.2"
  }
 },
 "nbformat": 4,
 "nbformat_minor": 2
}
