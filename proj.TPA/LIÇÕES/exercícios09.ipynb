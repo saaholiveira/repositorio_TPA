{
 "cells": [
  {
   "cell_type": "markdown",
   "metadata": {},
   "source": [
    "# Exercícios tabela hash - aula 09"
   ]
  },
  {
   "cell_type": "markdown",
   "metadata": {},
   "source": [
    "## Exercício 1: Livros adicionados na biblioteca"
   ]
  },
  {
   "cell_type": "code",
   "execution_count": 2,
   "metadata": {},
   "outputs": [
    {
     "name": "stdout",
     "output_type": "stream",
     "text": [
      "Alice no País das Maravilhas\n",
      "None\n",
      "None\n"
     ]
    }
   ],
   "source": [
    "class HashTable:\n",
    "    # Construtor da tabela hash\n",
    "    def __init__(self, size=10):\n",
    "        self.size = size\n",
    "        self.table = [[] for _ in range(self.size)]\n",
    "    \n",
    "    # Método que calcula o índice da tabela através da chave\n",
    "    def hash(self, key):\n",
    "        return hash(key) % self.size\n",
    "    \n",
    "    # Método que insere um valor através da sua chave\n",
    "    def insert(self, key, value):\n",
    "        index = self.hash(key)\n",
    "        for y in self.table[index]:\n",
    "            if y[0] == key:\n",
    "                y[1] = value\n",
    "                return\n",
    "        self.table[index].append([key, value])\n",
    "        \n",
    "    # Método de remoção de valor através da sua chave\n",
    "    def remove(self, key):\n",
    "        index = self.hash(key)\n",
    "        for i, y in enumerate(self.table[index]):\n",
    "            if y[0] == key:\n",
    "                del self.table[index][i]\n",
    "                return True\n",
    "        return False\n",
    "        \n",
    "    # Método de busca de valor através de sua chave\n",
    "    def get(self, key):\n",
    "        index = self.hash(key)\n",
    "        for y in self.table[index]:\n",
    "            if y[0] == key:\n",
    "                return y[1]\n",
    "        return None\n",
    "            \n",
    "            \n",
    "# Execução do código\n",
    "if __name__ == \"__main__\":\n",
    "    biblioteca = HashTable()\n",
    "    biblioteca.insert(\"A\", \"Alice no País das Maravilhas\")\n",
    "    biblioteca.insert(\"M\", \"Marcelino Pão e Vinho\")\n",
    "    biblioteca.insert(\"O\", \"O Código Da Vinci\")\n",
    "    \n",
    "    print(biblioteca.get(\"A\"))  \n",
    "    print(biblioteca.get(\"B\"))  \n",
    "    \n",
    "    biblioteca.remove(\"A\")\n",
    "    print(biblioteca.get(\"A\"))  "
   ]
  },
  {
   "cell_type": "markdown",
   "metadata": {},
   "source": [
    "## Exercício 2: Prateleira de mercado"
   ]
  },
  {
   "cell_type": "code",
   "execution_count": 1,
   "metadata": {},
   "outputs": [
    {
     "name": "stdout",
     "output_type": "stream",
     "text": [
      "Frios\n",
      "Limpeza\n",
      "Vegetais\n",
      "Cereais\n",
      "Bebidas\n",
      "Padaria\n",
      "Laticícios\n",
      "Açougue\n",
      "Hortaliças\n",
      "Bebidas Alcólicas\n"
     ]
    }
   ],
   "source": [
    "class Mercado:\n",
    "    # Construtor da tabela hash\n",
    "    def __init__(self, size=10):\n",
    "        self.size = size;\n",
    "        self.table = [[] for _ in range(self.size)]\n",
    "\n",
    "    # Método que calcula o índice da tabela através da chave\n",
    "    def hash(self, key):\n",
    "        return hash(key) % self.size\n",
    "    \n",
    "    # Método que insere um valor através da sua chave\n",
    "    def insert(self, key, value):\n",
    "        index = self.hash(key)\n",
    "        for y in self.table[index]:\n",
    "            if y[0] == key:\n",
    "                y[1] = value\n",
    "                return\n",
    "        self.table[index].append([key, value])\n",
    "\n",
    "    # Método de remover valor através da sua chave\n",
    "    def remove(self, key):\n",
    "        index = self.hash(key)\n",
    "        for i, y in enumerate(self.table[index]):\n",
    "            if y[0] == key:\n",
    "             del self.table[index][i]\n",
    "             return True\n",
    "        return False\n",
    "        \n",
    "    def get(self, key):\n",
    "        index = self.hash(key)\n",
    "        for y in self.table[index]:\n",
    "            if y[0] == key:\n",
    "                return y[1]\n",
    "        return None\n",
    "\n",
    "    \n",
    "if __name__ == \"__main__\":\n",
    "    pratilheira = Mercado()\n",
    "    pratilheira.insert(\"0.\",\"Frios\")\n",
    "    pratilheira.insert(\"1.\",\"Limpeza\")\n",
    "    pratilheira.insert(\"2.\",\"Vegetais\")\n",
    "    pratilheira.insert(\"3.\",\"Cereais\")\n",
    "    pratilheira.insert(\"4.\",\"Bebidas\")\n",
    "    pratilheira.insert(\"5.\",\"Padaria\")\n",
    "    pratilheira.insert(\"6.\",\"Laticícios\")\n",
    "    pratilheira.insert(\"7.\",\"Açougue\")\n",
    "    pratilheira.insert(\"8.\",\"Hortaliças\")\n",
    "    pratilheira.insert(\"9.\",\"Bebidas Alcólicas\")\n",
    "\n",
    "    print(pratilheira.get(\"0.\"))\n",
    "    print(pratilheira.get(\"1.\"))\n",
    "    print(pratilheira.get(\"2.\"))\n",
    "    print(pratilheira.get(\"3.\"))\n",
    "    print(pratilheira.get(\"4.\"))\n",
    "    print(pratilheira.get(\"5.\"))\n",
    "    print(pratilheira.get(\"6.\"))\n",
    "    print(pratilheira.get(\"7.\"))\n",
    "    print(pratilheira.get(\"8.\"))\n",
    "    print(pratilheira.get(\"9.\"))"
   ]
  }
 ],
 "metadata": {
  "kernelspec": {
   "display_name": "Python 3",
   "language": "python",
   "name": "python3"
  },
  "language_info": {
   "codemirror_mode": {
    "name": "ipython",
    "version": 3
   },
   "file_extension": ".py",
   "mimetype": "text/x-python",
   "name": "python",
   "nbconvert_exporter": "python",
   "pygments_lexer": "ipython3",
   "version": "3.11.9"
  }
 },
 "nbformat": 4,
 "nbformat_minor": 2
}
