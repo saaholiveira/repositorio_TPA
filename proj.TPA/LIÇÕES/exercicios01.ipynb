{
 "cells": [
  {
   "cell_type": "markdown",
   "metadata": {},
   "source": [
    "# Exercícios - TPA"
   ]
  },
  {
   "cell_type": "markdown",
   "metadata": {},
   "source": [
    "1- Crie um programa que receba o deposito de 500 reais. Após um pix de 200 reais e um o pagamento de um DOC de 140 reais mostre o saldo. O DOC cobra uma taxa de 5%. Se for maior de 60 anos não é cobrado. Mostre o saldo."
   ]
  },
  {
   "cell_type": "code",
   "execution_count": 6,
   "metadata": {},
   "outputs": [
    {
     "name": "stdout",
     "output_type": "stream",
     "text": [
      "Saldo = 840\n"
     ]
    }
   ],
   "source": [
    "a1 = 500\n",
    "a2 = 200\n",
    "a3 = 140\n",
    "valor = a1 + a2 \n",
    "idade = 73\n",
    "if(idade>=60):\n",
    "   saldo = valor + a3  \n",
    "   print(\"Saldo =\" ,saldo,)\n",
    "   \n",
    "else:\n",
    "     saldo2 = (a3 -  5%a3) + valor\n",
    "     print(\"Saldo =\" ,saldo2,)\n",
    "    "
   ]
  },
  {
   "cell_type": "markdown",
   "metadata": {},
   "source": [
    "2- Crie um programa que aprove a compra de um carro. Até 30 anos de idade recebe um desconto de 5%. Até 50 anos de idade recebe um desconto de 12% e acima disso, 15%. O saldo para a compra do carro é 50.000,00 e o valor do carro é 44.500,00. Mostre o saldo após a compra e o valor pago de fato pelo veiculo.\n"
   ]
  },
  {
   "cell_type": "code",
   "execution_count": 16,
   "metadata": {},
   "outputs": [
    {
     "name": "stdout",
     "output_type": "stream",
     "text": [
      "Saldo após compra: 5505\n",
      "Valor pago: 44495\n"
     ]
    }
   ],
   "source": [
    "saldo = 50000\n",
    "valor = 44500\n",
    "idade = 16\n",
    "\n",
    "if(idade<=30):\n",
    "    vp = valor - 5%valor\n",
    "    sp = saldo - vp\n",
    "    print(\"Saldo após compra:\" ,sp,)\n",
    "    print(\"Valor pago:\" ,vp,)\n",
    "else:\n",
    "    if(idade<=50):\n",
    "        vp2 = valor - 12%valor\n",
    "        sp2 = saldo - vp2\n",
    "        print(\"Saldo após compra:\" ,sp2,)\n",
    "        print(\"Valor pago:\" ,vp2,)\n",
    "    else:\n",
    "        vp3 = valor - 15%valor\n",
    "        sp3 = saldo - vp3\n",
    "        print(\"Saldo após compra:\" ,sp3,)\n",
    "        print(\"Valor pago:\" ,vp3,)"
   ]
  }
 ],
 "metadata": {
  "kernelspec": {
   "display_name": "Python 3",
   "language": "python",
   "name": "python3"
  },
  "language_info": {
   "codemirror_mode": {
    "name": "ipython",
    "version": 3
   },
   "file_extension": ".py",
   "mimetype": "text/x-python",
   "name": "python",
   "nbconvert_exporter": "python",
   "pygments_lexer": "ipython3",
   "version": "3.11.9"
  }
 },
 "nbformat": 4,
 "nbformat_minor": 2
}
