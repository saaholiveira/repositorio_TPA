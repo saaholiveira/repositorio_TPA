{
 "cells": [
  {
   "cell_type": "markdown",
   "metadata": {},
   "source": [
    "# Exercícios - Aula07"
   ]
  },
  {
   "cell_type": "markdown",
   "metadata": {},
   "source": [
    "1- Crie um código para a seguinte frase: \"Sabia que o sabiá sabia assobiar\" particionado por espaços, após isso crie um print format para visualizar cada palavra em uma coluna separada."
   ]
  },
  {
   "cell_type": "code",
   "execution_count": 1,
   "metadata": {},
   "outputs": [
    {
     "name": "stdout",
     "output_type": "stream",
     "text": [
      "Sabia     que       o         sabiá     sabia     assobiar  \n"
     ]
    }
   ],
   "source": [
    "frase = \"Sabia que o sabiá sabia assobiar\"\n",
    "palavras = frase.split()\n",
    "print(\"{:<10}{:<10}{:<10}{:<10}{:<10}{:<10}\".format(*palavras))"
   ]
  },
  {
   "cell_type": "markdown",
   "metadata": {},
   "source": [
    "2- Crie uma matriz chamada contar com os números de 0 até 9. Ao final crie uma contagem, média e desvio padrão dessa matriz. Para adicionar de zero a 9 utilize um for e depois atribua à matriz."
   ]
  },
  {
   "cell_type": "code",
   "execution_count": 2,
   "metadata": {},
   "outputs": [
    {
     "name": "stdout",
     "output_type": "stream",
     "text": [
      "Matriz contar: [0, 1, 2, 3, 4, 5, 6, 7, 8, 9]\n",
      "Contagem: [0, 1, 2, 3, 4, 5, 6, 7, 8, 9]\n",
      "Média: [0, 1, 2, 3, 4, 5, 6, 7, 8, 9]\n",
      "Desvio Padrão: [0, 1, 2, 3, 4, 5, 6, 7, 8, 9]\n"
     ]
    }
   ],
   "source": [
    "contar = []\n",
    "for i in range(10):\n",
    "    contar.append(i)\n",
    "\n",
    "contagem = len(contar)\n",
    "media = sum(contar) / contagem\n",
    "desviop = (sum((x - media) ** 2 for x in contar) / contagem) **0.5\n",
    "\n",
    "print(\"Matriz contar:\", contar)\n",
    "print(\"Contagem:\", contar)\n",
    "print(\"Média:\", contar)\n",
    "print(\"Desvio Padrão:\", contar)"
   ]
  }
 ],
 "metadata": {
  "kernelspec": {
   "display_name": "Python 3",
   "language": "python",
   "name": "python3"
  },
  "language_info": {
   "codemirror_mode": {
    "name": "ipython",
    "version": 3
   },
   "file_extension": ".py",
   "mimetype": "text/x-python",
   "name": "python",
   "nbconvert_exporter": "python",
   "pygments_lexer": "ipython3",
   "version": "3.11.9"
  }
 },
 "nbformat": 4,
 "nbformat_minor": 2
}
