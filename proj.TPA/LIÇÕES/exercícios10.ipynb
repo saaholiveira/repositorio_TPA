{
 "cells": [
  {
   "cell_type": "markdown",
   "metadata": {},
   "source": [
    "# Exercícios - Aula 10"
   ]
  },
  {
   "cell_type": "markdown",
   "metadata": {},
   "source": [
    "## Crie um método que insira 10 valores aleatórios de 0 a 100. Após isso organize-os e mostre-os."
   ]
  },
  {
   "cell_type": "code",
   "execution_count": 5,
   "metadata": {},
   "outputs": [],
   "source": [
    "class No:\n",
    "    def __init__(self, valor):\n",
    "        self.esquerda = None\n",
    "        self.direita = None\n",
    "        self.valor = valor"
   ]
  },
  {
   "cell_type": "code",
   "execution_count": 6,
   "metadata": {},
   "outputs": [],
   "source": [
    "def inserir(raiz, chave):\n",
    "    if raiz is None:\n",
    "        return No(chave)\n",
    "    else:\n",
    "        if chave < raiz.valor:\n",
    "            raiz.esquerda = inserir(raiz.esquerda, chave)\n",
    "        else:\n",
    "            raiz.direita = inserir(raiz.direita, chave)\n",
    "    return raiz"
   ]
  },
  {
   "cell_type": "code",
   "execution_count": 7,
   "metadata": {},
   "outputs": [],
   "source": [
    "def ordenar(raiz):\n",
    "    if raiz:\n",
    "        ordenar(raiz.esquerda)\n",
    "        print(raiz.valor, end=\" \")\n",
    "        ordenar(raiz.direita)"
   ]
  },
  {
   "cell_type": "code",
   "execution_count": 8,
   "metadata": {},
   "outputs": [
    {
     "name": "stdout",
     "output_type": "stream",
     "text": [
      "Em ordem -> 6 6 8 8 13 13 20 20 51 51 52 52 63 63 63 63 88 88 96 96 \n"
     ]
    }
   ],
   "source": [
    "import random as y\n",
    "if __name__ == '__main__':\n",
    " raiz = None\n",
    " lista = []\n",
    "\n",
    "for x in range(10):\n",
    "   lista.append(y.randint(0,100))\n",
    "\n",
    "for x in lista:\n",
    "   raiz = inserir(raiz, x)\n",
    "   raiz = inserir(raiz, x)\n",
    "\n",
    "print(\"Em ordem ->\", end=\" \", )\n",
    "ordenar(raiz)\n",
    "print()"
   ]
  },
  {
   "cell_type": "markdown",
   "metadata": {},
   "source": [
    "## Crie um método que insira 5 valores aleatórios de 0 a 10. Após isso organize-os de forma decrescente e mostre-os."
   ]
  },
  {
   "cell_type": "code",
   "execution_count": 9,
   "metadata": {},
   "outputs": [],
   "source": [
    "def ordenar(raiz):\n",
    "    if raiz:\n",
    "        ordenar(raiz.direita)\n",
    "        print(raiz.valor, end=\" \")\n",
    "        ordenar(raiz.esquerda)"
   ]
  },
  {
   "cell_type": "code",
   "execution_count": 10,
   "metadata": {},
   "outputs": [
    {
     "name": "stdout",
     "output_type": "stream",
     "text": [
      "Em ordem decrescente-> 90 85 73 69 63 63 36 33 28 16 \n"
     ]
    }
   ],
   "source": [
    "import random as y\n",
    "if __name__ == '__main__':\n",
    " raiz = None\n",
    " lista = []\n",
    "\n",
    "for x in range(10):\n",
    "   lista.append(y.randint(0,100))\n",
    "\n",
    "for x in lista:\n",
    "   raiz = inserir(raiz, x)\n",
    "\n",
    "print(\"Em ordem decrescente->\", end=\" \", )\n",
    "\n",
    "ordenar(raiz)\n",
    "print()"
   ]
  }
 ],
 "metadata": {
  "kernelspec": {
   "display_name": "Python 3",
   "language": "python",
   "name": "python3"
  },
  "language_info": {
   "codemirror_mode": {
    "name": "ipython",
    "version": 3
   },
   "file_extension": ".py",
   "mimetype": "text/x-python",
   "name": "python",
   "nbconvert_exporter": "python",
   "pygments_lexer": "ipython3",
   "version": "3.11.9"
  }
 },
 "nbformat": 4,
 "nbformat_minor": 2
}
