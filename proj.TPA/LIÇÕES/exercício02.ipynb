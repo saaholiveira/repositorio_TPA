{
 "cells": [
  {
   "cell_type": "markdown",
   "metadata": {},
   "source": [
    "# Exercícios - Aula05 TPA"
   ]
  },
  {
   "cell_type": "markdown",
   "metadata": {},
   "source": [
    "1- Crie um lista com 10 valores em metros. Crie uma tabela de conversão para polegadas, pés, jardas e milhas marítimas, listando o número da linha e o cabeçalho da tabela.\n"
   ]
  },
  {
   "cell_type": "code",
   "execution_count": 1,
   "metadata": {},
   "outputs": [
    {
     "name": "stdout",
     "output_type": "stream",
     "text": [
      "[196.85, 393.7, 590.55, 787.4, 984.25, 1181.1, 1377.95, 1574.8, 1771.65, 1968.5]\n"
     ]
    }
   ],
   "source": [
    "metros = [5,10,15,20,25,30,35,40,45,50]\n",
    "polegadas = [round(x*39.37,2) for x in metros]\n",
    "print(polegadas)"
   ]
  },
  {
   "cell_type": "code",
   "execution_count": 2,
   "metadata": {},
   "outputs": [
    {
     "name": "stdout",
     "output_type": "stream",
     "text": [
      "[16.41, 32.81, 49.22, 65.62, 82.03, 98.43, 114.84, 131.24, 147.65, 164.05]\n"
     ]
    }
   ],
   "source": [
    "metros = [5,10,15,20,25,30,35,40,45,50]\n",
    "pés = [round(x*3.281,2) for x in metros]\n",
    "print(pés)"
   ]
  },
  {
   "cell_type": "code",
   "execution_count": 3,
   "metadata": {},
   "outputs": [
    {
     "name": "stdout",
     "output_type": "stream",
     "text": [
      "[5.47, 10.94, 16.41, 21.88, 27.35, 32.82, 38.29, 43.76, 49.23, 54.7]\n"
     ]
    }
   ],
   "source": [
    "metros = [5,10,15,20,25,30,35,40,45,50]\n",
    "jardas = [round(x*1.094,2) for x in metros]\n",
    "print(jardas)"
   ]
  },
  {
   "cell_type": "code",
   "execution_count": 4,
   "metadata": {},
   "outputs": [
    {
     "name": "stdout",
     "output_type": "stream",
     "text": [
      "[0.0, 0.01, 0.01, 0.01, 0.01, 0.02, 0.02, 0.02, 0.02, 0.03]\n"
     ]
    }
   ],
   "source": [
    "metros = [5,10,15,20,25,30,35,40,45,50]\n",
    "milhasm = [round(x/1852,2) for x in metros]\n",
    "print(milhasm)"
   ]
  },
  {
   "cell_type": "code",
   "execution_count": 5,
   "metadata": {},
   "outputs": [
    {
     "name": "stdout",
     "output_type": "stream",
     "text": [
      "metros    polegadas pés       jardas    milhasm   \n",
      "===============================================\n",
      "5         196.85    16.41     5.47      0.0       \n",
      "10        393.7     32.81     10.94     0.01      \n",
      "15        590.55    49.22     16.41     0.01      \n",
      "20        787.4     65.62     21.88     0.01      \n",
      "25        984.25    82.03     27.35     0.01      \n",
      "30        1181.1    98.43     32.82     0.02      \n",
      "35        1377.95   114.84    38.29     0.02      \n",
      "40        1574.8    131.24    43.76     0.02      \n",
      "45        1771.65   147.65    49.23     0.02      \n",
      "50        1968.5    164.05    54.7      0.03      \n"
     ]
    }
   ],
   "source": [
    "print(\"{:<10}{:<10}{:<10}{:<10}{:<10}\".format(\"metros\",\"polegadas\",\"pés\",\"jardas\",\"milhasm\"))\n",
    "print(\"===============================================\")\n",
    "x = 0\n",
    "while(x<len(metros)):\n",
    "    print(\"{:<10}{:<10}{:<10}{:<10}{:<10}\".format(metros[x],polegadas[x],pés[x],jardas[x],milhasm[x]))\n",
    "    x += 1"
   ]
  },
  {
   "cell_type": "markdown",
   "metadata": {},
   "source": [
    "2- Crie uma lista com 10 valores em Kelvin. Crie uma tabela de conversão para Celsius e Fahrenheit, listando o número da linha e o cabeçalho da tabela.\n"
   ]
  },
  {
   "cell_type": "code",
   "execution_count": 6,
   "metadata": {},
   "outputs": [
    {
     "name": "stdout",
     "output_type": "stream",
     "text": [
      "[373, 473, 573, 673, 773, 873, 973, 1073, 1173, 1223]\n"
     ]
    }
   ],
   "source": [
    "kelvin = [100,200,300,400,500,600,700,800,900,950]\n",
    "celcius = [round(x+273,2) for x in kelvin]\n",
    "print(celcius)"
   ]
  },
  {
   "cell_type": "code",
   "execution_count": 7,
   "metadata": {},
   "outputs": [
    {
     "name": "stdout",
     "output_type": "stream",
     "text": [
      "[-279.67, -99.67, 80.33, 260.33, 440.33, 620.33, 800.33, 980.33, 1160.33, 1250.33]\n"
     ]
    }
   ],
   "source": [
    "kelvin = [100,200,300,400,500,600,700,800,900,950]\n",
    "fahrenheit = [round(x*1.8-459.67,2) for x in kelvin]\n",
    "print(fahrenheit)"
   ]
  },
  {
   "cell_type": "code",
   "execution_count": 8,
   "metadata": {},
   "outputs": [
    {
     "name": "stdout",
     "output_type": "stream",
     "text": [
      "kelvin    celcius   fahrenheit\n",
      "===============================\n",
      "100       373       -279.67   \n",
      "200       473       -99.67    \n",
      "300       573       80.33     \n",
      "400       673       260.33    \n",
      "500       773       440.33    \n",
      "600       873       620.33    \n",
      "700       973       800.33    \n",
      "800       1073      980.33    \n",
      "900       1173      1160.33   \n",
      "950       1223      1250.33   \n"
     ]
    }
   ],
   "source": [
    "print(\"{:<10}{:<10}{:<10}\".format(\"kelvin\",\"celcius\",\"fahrenheit\"))\n",
    "print(\"===============================\")\n",
    "x = 0\n",
    "while(x<len(metros)):\n",
    "    print(\"{:<10}{:<10}{:<10}\".format(kelvin[x],celcius[x],fahrenheit[x],))\n",
    "    x += 1"
   ]
  },
  {
   "cell_type": "markdown",
   "metadata": {},
   "source": [
    "3- Crie um uma lista com 10 pesos em quilos. Faça a conversão para o peso na Terra, Lua, Júpiter, Saturno e Mercúrio. Monte uma tabela com o cabeçalho e a numeração conforme os exercícios passados."
   ]
  },
  {
   "cell_type": "code",
   "execution_count": 9,
   "metadata": {},
   "outputs": [
    {
     "name": "stdout",
     "output_type": "stream",
     "text": [
      "[10, 20, 30, 40, 50, 60, 70, 80, 90, 100]\n"
     ]
    }
   ],
   "source": [
    "kg = [10,20,30,40,50,60,70,80,90,100]\n",
    "terra = [round(x,2) for x in kg]\n",
    "print(terra)"
   ]
  },
  {
   "cell_type": "code",
   "execution_count": 10,
   "metadata": {},
   "outputs": [
    {
     "name": "stdout",
     "output_type": "stream",
     "text": [
      "[16.0, 32.0, 48.0, 64.0, 80.0, 96.0, 112.0, 128.0, 144.0, 160.0]\n"
     ]
    }
   ],
   "source": [
    "kg = [10,20,30,40,50,60,70,80,90,100]\n",
    "lua = [round(x*1.6,2) for x in kg]\n",
    "print(lua)"
   ]
  },
  {
   "cell_type": "code",
   "execution_count": 12,
   "metadata": {},
   "outputs": [
    {
     "name": "stdout",
     "output_type": "stream",
     "text": [
      "[26.4, 52.8, 79.2, 105.6, 132.0, 158.4, 184.8, 211.2, 237.6, 264.0]\n"
     ]
    }
   ],
   "source": [
    "kg = [10,20,30,40,50,60,70,80,90,100]\n",
    "jupiter = [round(x*2.64,2) for x in kg]\n",
    "print(jupiter)"
   ]
  },
  {
   "cell_type": "code",
   "execution_count": 13,
   "metadata": {},
   "outputs": [
    {
     "name": "stdout",
     "output_type": "stream",
     "text": [
      "[10.6, 21.2, 31.8, 42.4, 53.0, 63.6, 74.2, 84.8, 95.4, 106.0]\n"
     ]
    }
   ],
   "source": [
    "kg = [10,20,30,40,50,60,70,80,90,100]\n",
    "saturno = [round(x*1.06,2) for x in kg]\n",
    "print(saturno)"
   ]
  },
  {
   "cell_type": "code",
   "execution_count": 14,
   "metadata": {},
   "outputs": [
    {
     "name": "stdout",
     "output_type": "stream",
     "text": [
      "[3.8, 7.6, 11.4, 15.2, 19.0, 22.8, 26.6, 30.4, 34.2, 38.0]\n"
     ]
    }
   ],
   "source": [
    "kg = [10,20,30,40,50,60,70,80,90,100]\n",
    "mercurio = [round(x*0.38,2) for x in kg]\n",
    "print(mercurio)"
   ]
  },
  {
   "cell_type": "code",
   "execution_count": 15,
   "metadata": {},
   "outputs": [
    {
     "name": "stdout",
     "output_type": "stream",
     "text": [
      "terra     lua       jupiter   saturno   mercurio  \n",
      "==================================================\n",
      "10        16.0      26.4      10.6      3.8       \n",
      "20        32.0      52.8      21.2      7.6       \n",
      "30        48.0      79.2      31.8      11.4      \n",
      "40        64.0      105.6     42.4      15.2      \n",
      "50        80.0      132.0     53.0      19.0      \n",
      "60        96.0      158.4     63.6      22.8      \n",
      "70        112.0     184.8     74.2      26.6      \n",
      "80        128.0     211.2     84.8      30.4      \n",
      "90        144.0     237.6     95.4      34.2      \n",
      "100       160.0     264.0     106.0     38.0      \n"
     ]
    }
   ],
   "source": [
    "print(\"{:<10}{:<10}{:<10}{:<10}{:<10}\".format(\"terra\",\"lua\",\"jupiter\",\"saturno\",\"mercurio\"))\n",
    "print(\"==================================================\")\n",
    "x = 0\n",
    "while(x<len(metros)):\n",
    "    print(\"{:<10}{:<10}{:<10}{:<10}{:<10}\".format(terra[x],lua[x],jupiter[x],saturno[x],mercurio[x]))\n",
    "    x += 1"
   ]
  }
 ],
 "metadata": {
  "kernelspec": {
   "display_name": "Python 3",
   "language": "python",
   "name": "python3"
  },
  "language_info": {
   "codemirror_mode": {
    "name": "ipython",
    "version": 3
   },
   "file_extension": ".py",
   "mimetype": "text/x-python",
   "name": "python",
   "nbconvert_exporter": "python",
   "pygments_lexer": "ipython3",
   "version": "3.11.9"
  }
 },
 "nbformat": 4,
 "nbformat_minor": 2
}
