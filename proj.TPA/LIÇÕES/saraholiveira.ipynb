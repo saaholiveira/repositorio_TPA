{
 "cells": [
  {
   "cell_type": "markdown",
   "metadata": {},
   "source": [
    "# Exercícios aula06"
   ]
  },
  {
   "cell_type": "markdown",
   "metadata": {},
   "source": [
    "\n",
    "> 1-Crie 3 dicionarios: matricula, aluno e diciplina.<br> A matricula terá código da matricula, data_inscrição e curso; o Aluno terá resgistro e nome;<br> A Diciplina terá registro e professor. Ao final adicione os três dicionarios em uma tupla chamada escola.\n"
   ]
  },
  {
   "cell_type": "code",
   "execution_count": 1,
   "metadata": {},
   "outputs": [
    {
     "name": "stdout",
     "output_type": "stream",
     "text": [
      "dict_values([240074, '15/01/2024', 'Desenvolvimeno de Sistemas'])\n",
      "dict_values([240074, 'Sarah Olivatto de Oliveira'])\n",
      "dict_values(['TPA', 'Gustavo'])\n"
     ]
    }
   ],
   "source": [
    "matricula = {\n",
    "    'codigo' : 240074,\n",
    "    'data_inscricao' : '15/01/2024',\n",
    "    'curso' : 'Desenvolvimeno de Sistemas'\n",
    "}\n",
    "aluno = {\n",
    "    'registro' : 240074,\n",
    "    'nome' : 'Sarah Olivatto de Oliveira'\n",
    "}\n",
    "diciplina = {\n",
    "    'registro' : 'TPA',\n",
    "    'Professor' : 'Gustavo'\n",
    "}\n",
    "escola =(matricula,aluno,diciplina)\n",
    "for x in escola:\n",
    "    print(x.values())"
   ]
  },
  {
   "cell_type": "markdown",
   "metadata": {},
   "source": [
    " > 2-Crie três dicionarios para as seguites tabelas: vendendor, produto e venda. O vndedor terá registro, nome e admissão;<br> O produo terá o ID, nome, fabricante; A venda terá reg_vendedor, id_produto e valor. Após a criação dos dicionários,<br> adicionem a uma tupla chamada casas_baiano"
   ]
  },
  {
   "cell_type": "code",
   "execution_count": 2,
   "metadata": {},
   "outputs": [
    {
     "name": "stdout",
     "output_type": "stream",
     "text": [
      "dict_values(['vendedor de móveis', 'Junior Gonzaga', '05/09/2020'])\n",
      "dict_values(['394758', 'Iphone 15 Pro Max', 'Apple'])\n",
      "dict_values(['vendedor de móveis', '394758', 'R$8.500,00'])\n"
     ]
    }
   ],
   "source": [
    "vendedor = {\n",
    "    'registro' : 'vendedor de móveis',\n",
    "    'nome' : 'Junior Gonzaga',\n",
    "    'admissão' : '05/09/2020'\n",
    "}\n",
    "\n",
    "produto = {\n",
    "    'ID' : '394758',\n",
    "    'nome' : 'Iphone 15 Pro Max',\n",
    "    'fabricante' : 'Apple'\n",
    "}\n",
    "\n",
    "Venda = {\n",
    "    'reg_vendedor' : 'vendedor de móveis',\n",
    "    'id_produto' : '394758',\n",
    "    'valor' : 'R$8.500,00'\n",
    "}\n",
    "\n",
    "casas_baiano =(vendedor,produto,Venda)\n",
    "for x in casas_baiano:\n",
    "    print(x.values())"
   ]
  }
 ],
 "metadata": {
  "kernelspec": {
   "display_name": "Python 3",
   "language": "python",
   "name": "python3"
  },
  "language_info": {
   "codemirror_mode": {
    "name": "ipython",
    "version": 3
   },
   "file_extension": ".py",
   "mimetype": "text/x-python",
   "name": "python",
   "nbconvert_exporter": "python",
   "pygments_lexer": "ipython3",
   "version": "3.11.9"
  }
 },
 "nbformat": 4,
 "nbformat_minor": 2
}
